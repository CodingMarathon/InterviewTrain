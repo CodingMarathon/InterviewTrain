{
 "cells": [
  {
   "cell_type": "markdown",
   "metadata": {},
   "source": [
    "# 二叉搜索树迭代器\n",
    "实现一个二叉搜索树迭代器。你将使用二叉搜索树的根节点初始化迭代器。\n",
    "\n",
    "调用 next() 将返回二叉搜索树中的下一个最小的数。\n",
    "\n",
    "示例：\n",
    "\n",
    "<img src='../img/0173.png'>\n",
    "\n",
    "BSTIterator iterator = new BSTIterator(root);\n",
    "\n",
    "iterator.next();    // 返回 3\n",
    "\n",
    "iterator.next();    // 返回 7\n",
    "\n",
    "iterator.hasNext(); // 返回 true\n",
    "\n",
    "iterator.next();    // 返回 9\n",
    "\n",
    "iterator.hasNext(); // 返回 true\n",
    "\n",
    "iterator.next();    // 返回 15\n",
    "\n",
    "iterator.hasNext(); // 返回 true\n",
    "\n",
    "iterator.next();    // 返回 20\n",
    "\n",
    "iterator.hasNext(); // 返回 false\n",
    " \n",
    "\n",
    "提示：\n",
    "\n",
    "- next() 和 hasNext() 操作的时间复杂度是 O(1)，并使用 O(h) 内存，其中 h 是树的高度。\n",
    "\n",
    "- 你可以假设 next() 调用总是有效的，也就是说，当调用 next() 时，BST 中至少存在一个下一个最小的数。\n",
    "\n",
    "来源：力扣（LeetCode）\n",
    "\n",
    "链接：https://leetcode-cn.com/problems/binary-search-tree-iterator\n",
    "\n",
    "著作权归领扣网络所有。商业转载请联系官方授权，非商业转载请注明出处。"
   ]
  },
  {
   "cell_type": "code",
   "execution_count": 1,
   "metadata": {},
   "outputs": [],
   "source": [
    "class TreeNode:\n",
    "    def __init__(self, x):\n",
    "        self.val = x\n",
    "        self.left = None\n",
    "        self.right = None\n",
    "a = TreeNode(1)\n",
    "a.left = TreeNode(2)\n",
    "a.right = TreeNode(3)\n",
    "a.left.left = TreeNode(4)\n",
    "a.left.right = TreeNode(5)\n",
    "a.right.left = TreeNode(6)\n",
    "a.right.right = TreeNode(7)"
   ]
  },
  {
   "cell_type": "markdown",
   "metadata": {},
   "source": [
    "# 一、遍历二叉树并排序"
   ]
  },
  {
   "cell_type": "code",
   "execution_count": 5,
   "metadata": {},
   "outputs": [],
   "source": [
    "class BSTIterator:\n",
    "\n",
    "    def __init__(self, root):\n",
    "        self.min_stack = []\n",
    "        stack = [root]\n",
    "        while stack:\n",
    "            p = stack.pop()\n",
    "            if p==None:\n",
    "                continue\n",
    "            else:\n",
    "                self.min_stack.append(p.val)\n",
    "                stack.append(p.right)\n",
    "                stack.append(p.left)\n",
    "        self.min_stack.sort(reverse=True)\n",
    "\n",
    "    def next(self) -> int:\n",
    "        \"\"\"\n",
    "        @return the next smallest number\n",
    "        \"\"\"\n",
    "        return self.min_stack.pop()\n",
    "\n",
    "\n",
    "    def hasNext(self) -> bool:\n",
    "        \"\"\"\n",
    "        @return whether we have a next smallest number\n",
    "        \"\"\"\n",
    "        return bool(self.min_stack)\n"
   ]
  },
  {
   "cell_type": "code",
   "execution_count": 6,
   "metadata": {},
   "outputs": [],
   "source": [
    "s = BSTIterator(a)"
   ]
  },
  {
   "cell_type": "code",
   "execution_count": 7,
   "metadata": {},
   "outputs": [
    {
     "data": {
      "text/plain": [
       "1"
      ]
     },
     "execution_count": 7,
     "metadata": {},
     "output_type": "execute_result"
    }
   ],
   "source": [
    "s.next()"
   ]
  },
  {
   "cell_type": "code",
   "execution_count": 8,
   "metadata": {},
   "outputs": [
    {
     "data": {
      "text/plain": [
       "2"
      ]
     },
     "execution_count": 8,
     "metadata": {},
     "output_type": "execute_result"
    }
   ],
   "source": [
    "s.next()"
   ]
  },
  {
   "cell_type": "markdown",
   "metadata": {},
   "source": [
    "用时104ms  内存19.9M"
   ]
  },
  {
   "cell_type": "markdown",
   "metadata": {},
   "source": [
    "# 二、二叉搜索树的一个重要的特性是是二叉搜索树的中序序列是升序序列；因此，中序遍历是该解决方案的核心\n"
   ]
  },
  {
   "cell_type": "markdown",
   "metadata": {},
   "source": [
    "<img src='../img/0173_1.png'>"
   ]
  },
  {
   "cell_type": "code",
   "execution_count": null,
   "metadata": {},
   "outputs": [],
   "source": [
    "class BSTIterator:\n",
    "\n",
    "    def __init__(self, root: TreeNode):\n",
    "        \n",
    "        # Stack for the recursion simulation\n",
    "        self.stack = []\n",
    "        \n",
    "        # Remember that the algorithm starts with a call to the helper function\n",
    "        # with the root node as the input\n",
    "        self._leftmost_inorder(root)\n",
    "        \n",
    "    def _leftmost_inorder(self, root):\n",
    "        \n",
    "        # For a given node, add all the elements in the leftmost branch of the tree\n",
    "        # under it to the stack.\n",
    "        while root:\n",
    "            self.stack.append(root)\n",
    "            root = root.left\n",
    "\n",
    "    def next(self) -> int:\n",
    "        \"\"\"\n",
    "        @return the next smallest number\n",
    "        \"\"\"\n",
    "        \n",
    "        # Node at the top of the stack is the next smallest element\n",
    "        topmost_node = self.stack.pop()\n",
    "        \n",
    "        # Need to maintain the invariant. If the node has a right child, call the \n",
    "        # helper function for the right child\n",
    "        if topmost_node.right:\n",
    "            self._leftmost_inorder(topmost_node.right)\n",
    "        return topmost_node.val\n",
    "\n",
    "    def hasNext(self) -> bool:\n",
    "        \"\"\"\n",
    "        @return whether we have a next smallest number\n",
    "        \"\"\"\n",
    "        return len(self.stack) > 0"
   ]
  }
 ],
 "metadata": {
  "kernelspec": {
   "display_name": "Python [conda env:root] *",
   "language": "python",
   "name": "conda-root-py"
  },
  "language_info": {
   "codemirror_mode": {
    "name": "ipython",
    "version": 3
   },
   "file_extension": ".py",
   "mimetype": "text/x-python",
   "name": "python",
   "nbconvert_exporter": "python",
   "pygments_lexer": "ipython3",
   "version": "3.7.6"
  }
 },
 "nbformat": 4,
 "nbformat_minor": 4
}
