{
 "cells": [
  {
   "cell_type": "markdown",
   "metadata": {},
   "source": [
    "# 接雨水\n",
    "给定 n 个非负整数表示每个宽度为 1 的柱子的高度图，计算按此排列的柱子，下雨之后能接多少雨水。\n",
    "\n",
    "<img src='../img/0042.png'>\n",
    "上面是由数组 [0,1,0,2,1,0,1,3,2,1,2,1] 表示的高度图，在这种情况下，可以接 6 个单位的雨水（蓝色部分表示雨水）。\n",
    "示例:\n",
    "\n",
    "输入: [0,1,0,2,1,0,1,3,2,1,2,1]\n",
    "\n",
    "输出: 6\n",
    "\n",
    "\n",
    "来源：力扣（LeetCode）\n",
    "\n",
    "链接：https://leetcode-cn.com/problems/trapping-rain-water\n",
    "\n",
    "著作权归领扣网络所有。商业转载请联系官方授权，非商业转载请注明出处。"
   ]
  },
  {
   "cell_type": "markdown",
   "metadata": {},
   "source": [
    "# 一、大神的一行解法（不推荐）\n",
    "accumulate列表元素逐一求和"
   ]
  },
  {
   "cell_type": "code",
   "execution_count": 40,
   "metadata": {},
   "outputs": [],
   "source": [
    "from itertools import accumulate\n",
    "class Solution:\n",
    "    def trap(self, height):\n",
    "        return sum(map(min, accumulate(height, max), list(accumulate(height[::-1], max))[::-1])) - sum(height)"
   ]
  },
  {
   "cell_type": "code",
   "execution_count": 41,
   "metadata": {},
   "outputs": [
    {
     "name": "stdout",
     "output_type": "stream",
     "text": [
      "6\n"
     ]
    }
   ],
   "source": [
    "s =Solution()\n",
    "print(s.trap([0,1,0,2,1,0,1,3,2,1,2,1]))"
   ]
  },
  {
   "cell_type": "markdown",
   "metadata": {},
   "source": [
    "用时52ms  内存13.9M"
   ]
  },
  {
   "cell_type": "markdown",
   "metadata": {},
   "source": [
    "# 二、冷静后的思考"
   ]
  },
  {
   "cell_type": "code",
   "execution_count": 36,
   "metadata": {},
   "outputs": [],
   "source": [
    "class Solution:\n",
    "    def trap(self, height):\n",
    "        flag = 1 # 0代表下降，1代表上升\n",
    "        ans = 0\n",
    "        stack = []\n",
    "        left_boundary = 0\n",
    "        right_boundary = 0\n",
    "        right_boundary_stack = []\n",
    "        boundary = 0\n",
    "        for i in height:\n",
    "            if flag:\n",
    "                if not stack or i >= stack[-1]:\n",
    "                    stack.append(i)\n",
    "                else:\n",
    "                    flag = 0\n",
    "                    right_boundary = stack[-1]\n",
    "                    if right_boundary > left_boundary:\n",
    "                        while stack:\n",
    "                            temp = stack.pop()\n",
    "                            if temp < left_boundary:\n",
    "                                ans += left_boundary - temp \n",
    "                        left_boundary = right_boundary\n",
    "                    else:    \n",
    "                        right_boundary_stack.append(right_boundary)\n",
    "                    stack.append(i)\n",
    "            else:\n",
    "                if not stack or i > stack[-1]:\n",
    "                    flag = 1\n",
    "                stack.append(i)\n",
    "        while right_boundary_stack:\n",
    "            right_boundary = right_boundary_stack.pop()\n",
    "            while right_boundary_stack:\n",
    "                if right_boundary >= right_boundary_stack[-1]:\n",
    "                    right_boundary_stack.pop()\n",
    "                else:\n",
    "                    break\n",
    "            while stack:\n",
    "                if stack[-1]<=right_boundary:\n",
    "                    ans += right_boundary -stack.pop()\n",
    "                else:\n",
    "                    break\n",
    "        return ans            "
   ]
  },
  {
   "cell_type": "code",
   "execution_count": 37,
   "metadata": {},
   "outputs": [
    {
     "name": "stdout",
     "output_type": "stream",
     "text": [
      "7\n"
     ]
    }
   ],
   "source": [
    "s =Solution()\n",
    "print(s.trap([0,1,0,2,1,0,1,3,2,1,2,1]))"
   ]
  },
  {
   "cell_type": "code",
   "execution_count": 42,
   "metadata": {},
   "outputs": [],
   "source": [
    "class Solution:\n",
    "    def trap(self, height):\n",
    "        length = len(height)\n",
    "        if length < 3: return 0\n",
    "        res, idx = 0, 0\n",
    "        stack = []\n",
    "        while idx < length:\n",
    "            while len(stack) > 0 and height[idx] > height[stack[-1]]:\n",
    "                top = stack.pop()  # index of the last element in the stack\n",
    "                if len(stack) == 0:\n",
    "                    break\n",
    "                h = min(height[stack[-1]], height[idx]) - height[top]\n",
    "                dist = idx - stack[-1] - 1\n",
    "                res += (dist * h)\n",
    "            stack.append(idx)\n",
    "            idx += 1\n",
    "        return res"
   ]
  },
  {
   "cell_type": "code",
   "execution_count": 43,
   "metadata": {},
   "outputs": [
    {
     "name": "stdout",
     "output_type": "stream",
     "text": [
      "6\n"
     ]
    }
   ],
   "source": [
    "s =Solution()\n",
    "print(s.trap([0,1,0,2,1,0,1,3,2,1,2,1]))"
   ]
  },
  {
   "cell_type": "markdown",
   "metadata": {},
   "source": [
    "用时88ms   内存14M"
   ]
  }
 ],
 "metadata": {
  "kernelspec": {
   "display_name": "Python [conda env:root] *",
   "language": "python",
   "name": "conda-root-py"
  },
  "language_info": {
   "codemirror_mode": {
    "name": "ipython",
    "version": 3
   },
   "file_extension": ".py",
   "mimetype": "text/x-python",
   "name": "python",
   "nbconvert_exporter": "python",
   "pygments_lexer": "ipython3",
   "version": "3.7.6"
  }
 },
 "nbformat": 4,
 "nbformat_minor": 4
}
