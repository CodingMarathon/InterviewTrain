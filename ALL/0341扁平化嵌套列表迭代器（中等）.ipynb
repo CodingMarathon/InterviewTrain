{
 "cells": [
  {
   "cell_type": "markdown",
   "metadata": {},
   "source": [
    "# 扁平化嵌套列表迭代器\n",
    "给你一个嵌套的整型列表。请你设计一个迭代器，使其能够遍历这个整型列表中的所有整数。\n",
    "\n",
    "列表中的每一项或者为一个整数，或者是另一个列表。其中列表的元素也可能是整数或是其他列表。\n",
    "\n",
    " \n",
    "\n",
    "示例 1:\n",
    "\n",
    "输入: [[1,1],2,[1,1]]\n",
    "\n",
    "输出: [1,1,2,1,1]\n",
    "\n",
    "解释: 通过重复调用 next 直到 hasNext 返回 false，next 返回的元素的顺序应该是: [1,1,2,1,1]。\n",
    "\n",
    "示例 2:\n",
    "\n",
    "输入: [1,[4,[6]]]\n",
    "\n",
    "输出: [1,4,6]\n",
    "\n",
    "解释: 通过重复调用 next 直到 hasNext 返回 false，next 返回的元素的顺序应该是: [1,4,6]。\n",
    "\n",
    "来源：力扣（LeetCode）\n",
    "\n",
    "链接：https://leetcode-cn.com/problems/flatten-nested-list-iterator\n",
    "\n",
    "著作权归领扣网络所有。商业转载请联系官方授权，非商业转载请注明出处。"
   ]
  },
  {
   "cell_type": "markdown",
   "metadata": {},
   "source": [
    "# 一、使用栈"
   ]
  },
  {
   "cell_type": "code",
   "execution_count": 1,
   "metadata": {},
   "outputs": [],
   "source": [
    "# \"\"\"\n",
    "# This is the interface that allows for creating nested lists.\n",
    "# You should not implement it, or speculate about its implementation\n",
    "# \"\"\"\n",
    "#class NestedInteger:\n",
    "#    def isInteger(self) -> bool:\n",
    "#        \"\"\"\n",
    "#        @return True if this NestedInteger holds a single integer, rather than a nested list.\n",
    "#        \"\"\"\n",
    "#\n",
    "#    def getInteger(self) -> int:\n",
    "#        \"\"\"\n",
    "#        @return the single integer that this NestedInteger holds, if it holds a single integer\n",
    "#        Return None if this NestedInteger holds a nested list\n",
    "#        \"\"\"\n",
    "#\n",
    "#    def getList(self) -> [NestedInteger]:\n",
    "#        \"\"\"\n",
    "#        @return the nested list that this NestedInteger holds, if it holds a nested list\n",
    "#        Return None if this NestedInteger holds a single integer\n",
    "#        \"\"\""
   ]
  },
  {
   "cell_type": "code",
   "execution_count": null,
   "metadata": {},
   "outputs": [],
   "source": [
    "class NestedIterator:\n",
    "    def __init__(self, nestedList):\n",
    "        # 对于nestedList中的内容，我们需要从左往右遍历，\n",
    "        # 但堆栈pop是从右端开始，所以我们压栈的时候需要将nestedList反转再压栈\n",
    "        self.stack = nestedList[::-1]\n",
    "\n",
    "    def next(self) -> int:\n",
    "        # hasNext 函数中已经保证栈顶是integer，所以直接返回pop结果\n",
    "        return self.stack.pop(-1).getInteger()\n",
    "\n",
    "    def hasNext(self) -> bool: \n",
    "        # 对栈顶进行‘剥皮’，如果栈顶是List，把List反转再依次压栈，\n",
    "        # 然后再看栈顶，依次循环直到栈顶为Integer。\n",
    "        # 同时可以处理空的List，类似[[[]],[]]这种test case           \n",
    "        while len(self.stack) > 0 and self.stack[-1].isInteger() is False:\n",
    "            self.stack += self.stack.pop().getList()[::-1]\n",
    "        return len(self.stack) > 0\n",
    "\n",
    "# Your NestedIterator object will be instantiated and called as such:\n",
    "# i, v = NestedIterator(nestedList), []\n",
    "# while i.hasNext(): v.append(i.next())"
   ]
  },
  {
   "cell_type": "markdown",
   "metadata": {},
   "source": [
    "用时128ms 内存17.3M"
   ]
  },
  {
   "cell_type": "markdown",
   "metadata": {},
   "source": [
    "# 二、迭代器"
   ]
  },
  {
   "cell_type": "code",
   "execution_count": null,
   "metadata": {},
   "outputs": [],
   "source": [
    "class NestedIterator:\n",
    "    def __init__(self, nestedList: [NestedInteger]):\n",
    "        def generator(nested_list):\n",
    "            for elem in nested_list:\n",
    "                if elem.isInteger():\n",
    "                    yield elem.getInteger()\n",
    "                else:\n",
    "                    elem_nested_list = elem.getList()\n",
    "                    for value in generator(elem_nested_list):\n",
    "                        yield value\n",
    "        \n",
    "        self.gen = generator(nestedList)\n",
    "    \n",
    "    def next(self) -> int:\n",
    "        return self.value\n",
    "    \n",
    "    def hasNext(self) -> bool:\n",
    "        try:\n",
    "            self.value = next(self.gen)\n",
    "            return True\n",
    "        except:\n",
    "            return False"
   ]
  },
  {
   "cell_type": "markdown",
   "metadata": {},
   "source": [
    "用时76ms 内存17.4M"
   ]
  },
  {
   "cell_type": "code",
   "execution_count": null,
   "metadata": {},
   "outputs": [],
   "source": []
  }
 ],
 "metadata": {
  "kernelspec": {
   "display_name": "Python [conda env:root] *",
   "language": "python",
   "name": "conda-root-py"
  },
  "language_info": {
   "codemirror_mode": {
    "name": "ipython",
    "version": 3
   },
   "file_extension": ".py",
   "mimetype": "text/x-python",
   "name": "python",
   "nbconvert_exporter": "python",
   "pygments_lexer": "ipython3",
   "version": "3.7.6"
  }
 },
 "nbformat": 4,
 "nbformat_minor": 4
}
