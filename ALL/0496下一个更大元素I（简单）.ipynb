{
 "cells": [
  {
   "cell_type": "markdown",
   "metadata": {},
   "source": [
    "# 下一个更大元素I\n",
    "给定两个没有重复元素的数组 nums1 和 nums2 ，其中nums1 是 nums2 的子集。找到 nums1 中每个元素在 nums2 中的下一个比其大的值。\n",
    "\n",
    "nums1 中数字 x 的下一个更大元素是指 x 在 nums2 中对应位置的右边的第一个比 x 大的元素。如果不存在，对应位置输出-1。\n",
    "\n",
    "示例 1:\n",
    "\n",
    "输入: nums1 = [4,1,2], nums2 = [1,3,4,2].\n",
    "\n",
    "输出: [-1,3,-1]\n",
    "\n",
    "解释:\n",
    "\n",
    "    对于num1中的数字4，你无法在第二个数组中找到下一个更大的数字，因此输出 -1。\n",
    "    \n",
    "    对于num1中的数字1，第二个数组中数字1右边的下一个较大数字是 3。\n",
    "    \n",
    "    对于num1中的数字2，第二个数组中没有下一个更大的数字，因此输出 -1。\n",
    "    \n",
    "示例 2:\n",
    "\n",
    "输入: nums1 = [2,4], nums2 = [1,2,3,4].\n",
    "\n",
    "输出: [3,-1]\n",
    "\n",
    "解释:\n",
    "\n",
    "    对于num1中的数字2，第二个数组中的下一个较大数字是3。\n",
    "    \n",
    "    对于num1中的数字4，第二个数组中没有下一个更大的数字，因此输出 -1。\n",
    "注意:\n",
    "\n",
    "nums1和nums2中所有元素是唯一的。\n",
    "\n",
    "nums1和nums2 的数组大小都不超过1000。\n",
    "\n",
    "来源：力扣（LeetCode）\n",
    "\n",
    "链接：https://leetcode-cn.com/problems/next-greater-element-i\n",
    "\n",
    "著作权归领扣网络所有。商业转载请联系官方授权，非商业转载请注明出处。"
   ]
  },
  {
   "cell_type": "markdown",
   "metadata": {},
   "source": [
    "# 一、暴力解法"
   ]
  },
  {
   "cell_type": "code",
   "execution_count": 8,
   "metadata": {},
   "outputs": [],
   "source": [
    "class Solution:\n",
    "    def nextGreaterElement(self, nums1, nums2):\n",
    "        ans = []\n",
    "        for i in nums1:\n",
    "            flag = 1\n",
    "            index = nums2.index(i)\n",
    "            if index == len(nums2):\n",
    "                ans.append(-1)\n",
    "            for j in range(index+1,len(nums2)):\n",
    "                if nums2[j]> i:\n",
    "                    ans.append(nums2[j])\n",
    "                    flag = 0\n",
    "                    break\n",
    "            if flag:\n",
    "                ans.append(-1)\n",
    "        return ans"
   ]
  },
  {
   "cell_type": "code",
   "execution_count": 9,
   "metadata": {},
   "outputs": [
    {
     "name": "stdout",
     "output_type": "stream",
     "text": [
      "[3, -1]\n",
      "[-1, 3, -1]\n"
     ]
    }
   ],
   "source": [
    "s = Solution()\n",
    "print(s.nextGreaterElement([2,4],[1,2,3,4]))\n",
    "print(s.nextGreaterElement([4,1,2],[1,3,4,2]))"
   ]
  },
  {
   "cell_type": "markdown",
   "metadata": {},
   "source": [
    "用时120ms  内存13.5M"
   ]
  },
  {
   "cell_type": "markdown",
   "metadata": {},
   "source": [
    "# 二、使用字典\n",
    "先将nums2的所有数都找到右边更大的那个数"
   ]
  },
  {
   "cell_type": "code",
   "execution_count": 14,
   "metadata": {},
   "outputs": [],
   "source": [
    "class Solution:\n",
    "    def nextGreaterElement(self, nums1, nums2):\n",
    "        dic = {}\n",
    "        length = len(nums2)\n",
    "        for i in range(length):\n",
    "            flag = 1\n",
    "            if i+1 == length:\n",
    "                dic[nums2[i]] = -1\n",
    "            for j in range(i+1, length):\n",
    "                if nums2[j]>nums2[i]:\n",
    "                    dic[nums2[i]]=nums2[j]\n",
    "                    flag = 0\n",
    "                    break\n",
    "            if flag:\n",
    "                dic[nums2[i]] = -1\n",
    "        return [dic[i] for i in nums1]                 "
   ]
  },
  {
   "cell_type": "code",
   "execution_count": 15,
   "metadata": {},
   "outputs": [
    {
     "name": "stdout",
     "output_type": "stream",
     "text": [
      "[3, -1]\n",
      "[-1, 3, -1]\n"
     ]
    }
   ],
   "source": [
    "s = Solution()\n",
    "print(s.nextGreaterElement([2,4],[1,2,3,4]))\n",
    "print(s.nextGreaterElement([4,1,2],[1,3,4,2]))"
   ]
  },
  {
   "cell_type": "markdown",
   "metadata": {},
   "source": [
    "用时64ms  内存13.5M"
   ]
  },
  {
   "cell_type": "markdown",
   "metadata": {},
   "source": [
    "# 三、递减栈加字典"
   ]
  },
  {
   "cell_type": "code",
   "execution_count": null,
   "metadata": {},
   "outputs": [],
   "source": [
    "class Solution:\n",
    "    def nextGreaterElement(self, nums1: List[int], nums2: List[int]) -> List[int]:\n",
    "        stack, hashmap = list(), dict()\n",
    "        for i in nums2:\n",
    "            while len(stack) != 0 and stack[-1] < i:\n",
    "                hashmap[stack.pop()] = i\n",
    "            stack.append(i)\n",
    "        return [hashmap.get(i,-1) for i in nums1]"
   ]
  },
  {
   "cell_type": "markdown",
   "metadata": {},
   "source": [
    "用时84ms  内存13.7M"
   ]
  }
 ],
 "metadata": {
  "kernelspec": {
   "display_name": "Python [conda env:root] *",
   "language": "python",
   "name": "conda-root-py"
  },
  "language_info": {
   "codemirror_mode": {
    "name": "ipython",
    "version": 3
   },
   "file_extension": ".py",
   "mimetype": "text/x-python",
   "name": "python",
   "nbconvert_exporter": "python",
   "pygments_lexer": "ipython3",
   "version": "3.7.6"
  }
 },
 "nbformat": 4,
 "nbformat_minor": 4
}
