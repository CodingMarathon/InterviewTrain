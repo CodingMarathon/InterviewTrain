{
 "cells": [
  {
   "cell_type": "markdown",
   "metadata": {},
   "source": [
    "# 二叉树的前序遍历\n",
    "\n",
    "给定一个二叉树，返回它的 前序 遍历。\n",
    "\n",
    " 示例:\n",
    "\n",
    "输入: [1,null,2,3]  \n",
    "<img src='../img/0144.png'>\n",
    "\n",
    "输出: [1,2,3]\n",
    "\n",
    "进阶: 递归算法很简单，你可以通过迭代算法完成吗？\n",
    "\n",
    "来源：力扣（LeetCode）\n",
    "\n",
    "链接：https://leetcode-cn.com/problems/binary-tree-preorder-traversal\n",
    "\n",
    "著作权归领扣网络所有。商业转载请联系官方授权，非商业转载请注明出处。"
   ]
  },
  {
   "cell_type": "code",
   "execution_count": 1,
   "metadata": {},
   "outputs": [],
   "source": [
    "class TreeNode:\n",
    "    def __init__(self, x):\n",
    "        self.val = x\n",
    "        self.left = None\n",
    "        self.right = None\n",
    "a = TreeNode(1)\n",
    "a.left = TreeNode(2)\n",
    "a.right = TreeNode(3)\n",
    "a.left.left = TreeNode(4)\n",
    "a.left.right = TreeNode(5)\n",
    "a.right.left = TreeNode(6)\n",
    "a.right.right = TreeNode(7)"
   ]
  },
  {
   "cell_type": "code",
   "execution_count": 4,
   "metadata": {},
   "outputs": [],
   "source": [
    "class Solution:\n",
    "    def preorderTraversal(self, root):\n",
    "        ans = []\n",
    "        if root == None:\n",
    "            return ans\n",
    "        stack = [root]\n",
    "        while stack:\n",
    "            p = stack.pop()\n",
    "            ans.append(p.val)\n",
    "            if p.right:\n",
    "                stack.append(p.right)\n",
    "            if p.left:\n",
    "                stack.append(p.left)\n",
    "        return ans"
   ]
  },
  {
   "cell_type": "code",
   "execution_count": 5,
   "metadata": {},
   "outputs": [
    {
     "name": "stdout",
     "output_type": "stream",
     "text": [
      "[1, 2, 4, 5, 3, 6, 7]\n"
     ]
    }
   ],
   "source": [
    "s = Solution()\n",
    "print(s.preorderTraversal(a))"
   ]
  },
  {
   "cell_type": "markdown",
   "metadata": {},
   "source": [
    "用时36ms 内存13.7M"
   ]
  },
  {
   "cell_type": "markdown",
   "metadata": {},
   "source": [
    "# 二、迭代"
   ]
  },
  {
   "cell_type": "code",
   "execution_count": null,
   "metadata": {},
   "outputs": [],
   "source": [
    "class Solution(object):\n",
    "    def preorderTraversal(self, root):\n",
    "        \"\"\"\n",
    "        :type root: TreeNode\n",
    "        :rtype: List[int]\n",
    "        \"\"\"\n",
    "        res = []\n",
    "        def helper(root):\n",
    "            if not root:return \n",
    "            res.append(root.val)\n",
    "            helper(root.left)\n",
    "            helper(root.right)\n",
    "        helper(root)\n",
    "        return res"
   ]
  },
  {
   "cell_type": "markdown",
   "metadata": {},
   "source": [
    "用时48ms  内存13.8M"
   ]
  },
  {
   "cell_type": "code",
   "execution_count": null,
   "metadata": {},
   "outputs": [],
   "source": []
  }
 ],
 "metadata": {
  "kernelspec": {
   "display_name": "Python [conda env:root] *",
   "language": "python",
   "name": "conda-root-py"
  },
  "language_info": {
   "codemirror_mode": {
    "name": "ipython",
    "version": 3
   },
   "file_extension": ".py",
   "mimetype": "text/x-python",
   "name": "python",
   "nbconvert_exporter": "python",
   "pygments_lexer": "ipython3",
   "version": "3.7.6"
  }
 },
 "nbformat": 4,
 "nbformat_minor": 4
}
