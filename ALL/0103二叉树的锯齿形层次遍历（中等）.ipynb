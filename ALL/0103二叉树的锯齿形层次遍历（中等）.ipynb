{
 "cells": [
  {
   "cell_type": "markdown",
   "metadata": {},
   "source": [
    "# 二叉树的层次遍历\n",
    "给定一个二叉树，返回其节点值的锯齿形层次遍历。（即先从左往右，再从右往左进行下一层遍历，以此类推，层与层之间交替进行）。\n",
    "\n",
    "例如：\n",
    "\n",
    "给定二叉树 [3,9,20,null,null,15,7],\n",
    "\n",
    "<img src='../img/0103.png'>\n",
    "   \n",
    "返回锯齿形层次遍历如下：\n",
    "\n",
    "[\n",
    "\n",
    "  [3],\n",
    "  \n",
    "  [20,9],\n",
    "  \n",
    "  [15,7]\n",
    "  \n",
    "]\n",
    "\n",
    "来源：力扣（LeetCode）\n",
    "\n",
    "链接：https://leetcode-cn.com/problems/binary-tree-zigzag-level-order-traversal\n",
    "\n",
    "著作权归领扣网络所有。商业转载请联系官方授权，非商业转载请注明出处。"
   ]
  },
  {
   "cell_type": "code",
   "execution_count": 1,
   "metadata": {},
   "outputs": [],
   "source": [
    "class TreeNode:\n",
    "    def __init__(self, x):\n",
    "        self.val = x\n",
    "        self.left = None\n",
    "        self.right = None"
   ]
  },
  {
   "cell_type": "code",
   "execution_count": 2,
   "metadata": {},
   "outputs": [],
   "source": [
    "a = TreeNode(1)\n",
    "a.left = TreeNode(2)\n",
    "a.right = TreeNode(3)\n",
    "a.left.left = TreeNode(4)\n",
    "a.left.right = TreeNode(5)\n",
    "a.right.left = TreeNode(6)\n",
    "a.right.right = TreeNode(7)"
   ]
  },
  {
   "cell_type": "markdown",
   "metadata": {},
   "source": [
    "# 一、使用两个栈，一个栈左节点先入栈，一个栈右节点先入栈"
   ]
  },
  {
   "cell_type": "code",
   "execution_count": 3,
   "metadata": {},
   "outputs": [],
   "source": [
    "class Solution:\n",
    "    def zigzagLevelOrder(self, root):\n",
    "        right_stack = []\n",
    "        right_stack.append(root)\n",
    "        left_stack = []\n",
    "        ans = []\n",
    "        while right_stack or left_stack:\n",
    "            temp = []\n",
    "            length = len(right_stack)\n",
    "            for i in range(length):\n",
    "                p = right_stack.pop()\n",
    "                if p == None:\n",
    "                    continue\n",
    "                else:\n",
    "                    temp.append(p.val)\n",
    "                    left_stack.extend([p.left, p.right])\n",
    "            if i == length-1 and temp:\n",
    "                ans.append(temp)\n",
    "                continue\n",
    "            length = len(left_stack)\n",
    "            for i in range(length):\n",
    "                p = left_stack.pop()\n",
    "                if p == None:\n",
    "                    continue\n",
    "                else:\n",
    "                    temp.append(p.val)\n",
    "                    right_stack.extend([p.right, p.left])\n",
    "            if i == length -1 and temp:\n",
    "                ans.append(temp)\n",
    "        return ans"
   ]
  },
  {
   "cell_type": "code",
   "execution_count": 4,
   "metadata": {},
   "outputs": [
    {
     "name": "stdout",
     "output_type": "stream",
     "text": [
      "[[1], [3, 2], [4, 5, 6, 7]]\n"
     ]
    }
   ],
   "source": [
    "s = Solution()\n",
    "print(s.zigzagLevelOrder(a))"
   ]
  },
  {
   "cell_type": "markdown",
   "metadata": {},
   "source": [
    "用时72ms  内存13.9M"
   ]
  },
  {
   "cell_type": "markdown",
   "metadata": {},
   "source": [
    "# 二、层次遍历"
   ]
  },
  {
   "cell_type": "code",
   "execution_count": 5,
   "metadata": {},
   "outputs": [],
   "source": [
    "class Solution(object):\n",
    "    \n",
    "    def zigzagLevelOrder(self, root):\n",
    "        \"\"\"\n",
    "        :type root: TreeNode\n",
    "        :rtype: List[List[int]]\n",
    "        \"\"\"\n",
    "        if not root:\n",
    "            return []\n",
    "        out = [[root.val]]\n",
    "        r = 1  # 记录正反输出\n",
    "        curr = [root]\n",
    "        next_stack = []\n",
    "        while curr or next_stack :\n",
    "            if curr:\n",
    "                root = curr.pop(0)\n",
    "                if root.left:\n",
    "                    next_stack.append(root.left)\n",
    "                if root.right:\n",
    "                    next_stack.append(root.right)\n",
    "            else:\n",
    "                next_out = [i.val for i in next_stack]\n",
    "                if r > 0:\n",
    "                    next_out= next_out[::-1]\n",
    "                out.append(next_out)\n",
    "                curr = next_stack\n",
    "                next_stack = []\n",
    "                r *= -1\n",
    "        return out"
   ]
  },
  {
   "cell_type": "markdown",
   "metadata": {},
   "source": [
    "用时52ms  内存14M"
   ]
  },
  {
   "cell_type": "markdown",
   "metadata": {},
   "source": [
    "# 三、使用队列"
   ]
  },
  {
   "cell_type": "code",
   "execution_count": null,
   "metadata": {},
   "outputs": [],
   "source": [
    "class Solution:\n",
    "    def zigzagLevelOrder(self, root: TreeNode) -> List[List[int]]:\n",
    "        if not root:\n",
    "            return []\n",
    "        curr = [root]\n",
    "        res = []\n",
    "        while curr:\n",
    "            temp = []\n",
    "            n = len(curr)\n",
    "            for i in range(n):\n",
    "                node = curr.pop(0)\n",
    "                temp.append(node.val)\n",
    "                if node.left:\n",
    "                    curr.append(node.left)\n",
    "                if node.right:\n",
    "                    curr.append(node.right)\n",
    "            res.append(temp)\n",
    "        for i in range(len(res)):\n",
    "            if i % 2 != 0:\n",
    "                res[i].reverse()\n",
    "        return res"
   ]
  },
  {
   "cell_type": "markdown",
   "metadata": {},
   "source": [
    "用时40ms  内存14.1M"
   ]
  }
 ],
 "metadata": {
  "kernelspec": {
   "display_name": "Python [conda env:root] *",
   "language": "python",
   "name": "conda-root-py"
  },
  "language_info": {
   "codemirror_mode": {
    "name": "ipython",
    "version": 3
   },
   "file_extension": ".py",
   "mimetype": "text/x-python",
   "name": "python",
   "nbconvert_exporter": "python",
   "pygments_lexer": "ipython3",
   "version": "3.7.6"
  }
 },
 "nbformat": 4,
 "nbformat_minor": 4
}
