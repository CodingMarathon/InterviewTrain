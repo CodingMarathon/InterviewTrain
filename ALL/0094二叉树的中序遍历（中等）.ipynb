{
 "cells": [
  {
   "cell_type": "markdown",
   "metadata": {},
   "source": [
    "# 二叉树的中序遍历\n",
    "给定一个二叉树，返回它的中序 遍历。\n",
    "\n",
    "示例:\n",
    "\n",
    "输入: [1,null,2,3]\n",
    "\n",
    "   1\n",
    "    \\\n",
    "     2\n",
    "    /\n",
    "   3\n",
    "\n",
    "输出: [1,3,2]\n",
    "\n",
    "进阶: 递归算法很简单，你可以通过迭代算法完成吗？\n",
    "\n",
    "来源：力扣（LeetCode）\n",
    "\n",
    "链接：https://leetcode-cn.com/problems/binary-tree-inorder-traversal\n",
    "\n",
    "著作权归领扣网络所有。商业转载请联系官方授权，非商业转载请注明出处。"
   ]
  },
  {
   "cell_type": "markdown",
   "metadata": {},
   "source": [
    "# 使用栈"
   ]
  },
  {
   "cell_type": "code",
   "execution_count": 1,
   "metadata": {},
   "outputs": [
    {
     "name": "stdout",
     "output_type": "stream",
     "text": [
      "<__main__.TreeNode object at 0x000002405201FEC8>\n"
     ]
    }
   ],
   "source": [
    "# Definition for a binary tree node.\n",
    "class TreeNode:\n",
    "    def __init__(self, x):\n",
    "        self.val = x\n",
    "        self.left = None\n",
    "        self.right = None\n",
    "\n",
    "a = TreeNode(1)\n",
    "a.right = TreeNode(2)\n",
    "a.right.left = TreeNode(3)\n",
    "print(a)"
   ]
  },
  {
   "cell_type": "code",
   "execution_count": 6,
   "metadata": {},
   "outputs": [],
   "source": [
    "class Solution:\n",
    "    def inorderTraversal(self, root):\n",
    "        ans = []\n",
    "        p = root\n",
    "        stack = []\n",
    "        while p:\n",
    "            stack.append(p.right)\n",
    "            stack.append(p.val)\n",
    "            p = p.left\n",
    "        while stack:\n",
    "            if isinstance(stack[-1], TreeNode):\n",
    "                p = stack.pop()\n",
    "                while p:\n",
    "                    stack.append(p.right)\n",
    "                    stack.append(p.val)\n",
    "                    p = p.left\n",
    "                ans.append(stack.pop())\n",
    "            elif stack[-1] == None:\n",
    "                stack.pop()\n",
    "                continue\n",
    "            else:\n",
    "                ans.append(stack.pop())\n",
    "        return ans"
   ]
  },
  {
   "cell_type": "code",
   "execution_count": 7,
   "metadata": {},
   "outputs": [
    {
     "name": "stdout",
     "output_type": "stream",
     "text": [
      "[1, 3, 2]\n"
     ]
    }
   ],
   "source": [
    "s = Solution()\n",
    "print(s.inorderTraversal(a))"
   ]
  },
  {
   "cell_type": "markdown",
   "metadata": {},
   "source": [
    "用时40ms  内存13.5M"
   ]
  },
  {
   "cell_type": "markdown",
   "metadata": {},
   "source": [
    "# 二、类似递归\n"
   ]
  },
  {
   "cell_type": "code",
   "execution_count": 9,
   "metadata": {},
   "outputs": [],
   "source": [
    "class Solution:\n",
    "    def inorderTraversal(self, root):\n",
    "        stack,rst = [root],[]\n",
    "        while stack:\n",
    "            i = stack.pop()\n",
    "            if isinstance(i,TreeNode):\n",
    "                \n",
    "                \n",
    "                stack.extend([i.right,i.val,i.left])\n",
    "            elif isinstance(i,int):\n",
    "                rst.append(i)\n",
    "        return rst"
   ]
  },
  {
   "cell_type": "markdown",
   "metadata": {},
   "source": [
    "用时36ms  内存13.7M"
   ]
  },
  {
   "cell_type": "code",
   "execution_count": null,
   "metadata": {},
   "outputs": [],
   "source": []
  }
 ],
 "metadata": {
  "kernelspec": {
   "display_name": "Python [conda env:root] *",
   "language": "python",
   "name": "conda-root-py"
  },
  "language_info": {
   "codemirror_mode": {
    "name": "ipython",
    "version": 3
   },
   "file_extension": ".py",
   "mimetype": "text/x-python",
   "name": "python",
   "nbconvert_exporter": "python",
   "pygments_lexer": "ipython3",
   "version": "3.7.6"
  }
 },
 "nbformat": 4,
 "nbformat_minor": 4
}
