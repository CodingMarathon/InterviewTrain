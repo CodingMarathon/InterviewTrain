{
 "cells": [
  {
   "cell_type": "markdown",
   "metadata": {},
   "source": [
    "# 比较含退格的字符串\n",
    "给定 S 和 T 两个字符串，当它们分别被输入到空白的文本编辑器后，判断二者是否相等，并返回结果。 # 代表退格字符。\n",
    "\n",
    "示例 1：\n",
    "\n",
    "输入：S = \"ab#c\", T = \"ad#c\"\n",
    "\n",
    "输出：true\n",
    "\n",
    "解释：S 和 T 都会变成 “ac”。\n",
    "\n",
    "示例 2：\n",
    "\n",
    "输入：S = \"ab##\", T = \"c#d#\"\n",
    "\n",
    "输出：true\n",
    "\n",
    "解释：S 和 T 都会变成 “”。\n",
    "\n",
    "示例 3：\n",
    "\n",
    "输入：S = \"a##c\", T = \"#a#c\"\n",
    "\n",
    "输出：true\n",
    "\n",
    "解释：S 和 T 都会变成 “c”。\n",
    "\n",
    "示例 4：\n",
    "\n",
    "输入：S = \"a#c\", T = \"b\"\n",
    "\n",
    "输出：false\n",
    "\n",
    "解释：S 会变成 “c”，但 T 仍然是 “b”。\n",
    " \n",
    "提示：\n",
    "\n",
    "1 <= S.length <= 200\n",
    "\n",
    "1 <= T.length <= 200\n",
    "\n",
    "S 和 T 只含有小写字母以及字符 '#'。\n",
    "\n",
    "来源：力扣（LeetCode）\n",
    "\n",
    "链接：https://leetcode-cn.com/problems/backspace-string-compare\n",
    "\n",
    "著作权归领扣网络所有。商业转载请联系官方授权，非商业转载请注明出处。"
   ]
  },
  {
   "cell_type": "markdown",
   "metadata": {},
   "source": [
    "# 一、使用栈"
   ]
  },
  {
   "cell_type": "code",
   "execution_count": 1,
   "metadata": {},
   "outputs": [],
   "source": [
    "class Solution:\n",
    "    def backspaceCompare(self, S, T):\n",
    "        s_stack = []\n",
    "        t_stack = []\n",
    "        for i in S:\n",
    "            if i == '#':\n",
    "                if s_stack:\n",
    "                    s_stack.pop()\n",
    "            else:\n",
    "                s_stack.append(i)\n",
    "        for i in T:\n",
    "            if i == '#':\n",
    "                if t_stack:\n",
    "                    t_stack.pop()\n",
    "            else:\n",
    "                t_stack.append(i)\n",
    "        return s_stack == t_stack"
   ]
  },
  {
   "cell_type": "markdown",
   "metadata": {},
   "source": [
    "用时44ms  内存13.6M"
   ]
  }
 ],
 "metadata": {
  "kernelspec": {
   "display_name": "Python [conda env:root] *",
   "language": "python",
   "name": "conda-root-py"
  },
  "language_info": {
   "codemirror_mode": {
    "name": "ipython",
    "version": 3
   },
   "file_extension": ".py",
   "mimetype": "text/x-python",
   "name": "python",
   "nbconvert_exporter": "python",
   "pygments_lexer": "ipython3",
   "version": "3.7.6"
  }
 },
 "nbformat": 4,
 "nbformat_minor": 4
}
