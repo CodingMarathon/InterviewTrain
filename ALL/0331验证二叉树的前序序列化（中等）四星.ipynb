{
 "cells": [
  {
   "cell_type": "markdown",
   "metadata": {},
   "source": [
    "# 验证二叉树的前序序列化\n",
    "序列化二叉树的一种方法是使用前序遍历。当我们遇到一个非空节点时，我们可以记录下这个节点的值。如果它是一个空节点，我们可以使用一个标记值记录，例如 #。\n",
    "\n",
    "<img src='../img/0331.png'>\n",
    "例如，上面的二叉树可以被序列化为字符串 \"9,3,4,#,#,1,#,#,2,#,6,#,#\"，其中 # 代表一个空节点。\n",
    "\n",
    "给定一串以逗号分隔的序列，验证它是否是正确的二叉树的前序序列化。编写一个在不重构树的条件下的可行算法。\n",
    "\n",
    "每个以逗号分隔的字符或为一个整数或为一个表示 null 指针的 '#' 。\n",
    "\n",
    "你可以认为输入格式总是有效的，例如它永远不会包含两个连续的逗号，比如 \"1,,3\" 。\n",
    "\n",
    "示例 1:\n",
    "\n",
    "输入: \"9,3,4,#,#,1,#,#,2,#,6,#,#\"\n",
    "\n",
    "输出: true\n",
    "\n",
    "示例 2:\n",
    "\n",
    "输入: \"1,#\"\n",
    "\n",
    "输出: false\n",
    "\n",
    "示例 3:\n",
    "\n",
    "输入: \"9,#,#,1\"\n",
    "\n",
    "输出: false\n",
    "\n",
    "来源：力扣（LeetCode）\n",
    "\n",
    "链接：https://leetcode-cn.com/problems/verify-preorder-serialization-of-a-binary-tree\n",
    "\n",
    "著作权归领扣网络所有。商业转载请联系官方授权，非商业转载请注明出处。"
   ]
  },
  {
   "cell_type": "markdown",
   "metadata": {},
   "source": [
    "首先不考虑最优性，从最简单的解法来讨论这个问题。\n",
    "\n",
    "我们可以定义一个概念，叫做槽位，二叉树中任意一个节点或者空孩子节点都要占据一个槽位。二叉树的建立也伴随着槽位数量的变化。开始时只有一个槽位，如果根节点是空节点，就只消耗掉一个槽位，如果根节点不是空节点，除了消耗一个槽位，还要为孩子节点增加两个新的槽位。之后的节点也是同理。\n",
    "\n",
    "有了上面的讨论，方法就很简单了。依次遍历前序序列化，根据节点是否为空，按照规则消耗/增加槽位。如果最后可以将所有的槽位消耗完，那么这个前序序列化就是合法的。\n",
    "\n",
    "- 开始时只有一个可用槽位。\n",
    "\n",
    "- 空节点和非空节点都消耗一个槽位。\n",
    "\n",
    "- 空节点不增加槽位，非空节点增加两个槽位。\n",
    "\n",
    "算法\n",
    "\n",
    "- 初始化可用槽位：slots = 1。\n",
    "\n",
    "- 根据逗号分隔前序序列化，将结果数组存储，随后遍历该数组：\n",
    "\n",
    "    - 空节点和非空节点都消耗一个槽位：slots = slot - 1.\n",
    "\n",
    "    - 如果当前的可用槽位是负数，那么这个前序序列化是非法的，返回 False。\n",
    "\n",
    "    - 非空节点（node != '#'）新增两个可用槽位：slots = slots + 2.\n",
    "\n",
    "- 如果所有的槽位都消耗完，那么这个前序序列化就是合法的：返回 slots == 0。"
   ]
  },
  {
   "cell_type": "code",
   "execution_count": null,
   "metadata": {},
   "outputs": [],
   "source": [
    "class Solution:\n",
    "    def isValidSerialization(self, preorder: str) -> bool:\n",
    "        # number of available slots\n",
    "        slots = 1\n",
    "\n",
    "        for node in preorder.split(','):\n",
    "            # one node takes one slot\n",
    "            slots -= 1\n",
    "            \n",
    "            # no more slots available\n",
    "            if slots < 0:\n",
    "                return False\n",
    "            \n",
    "            # non-empty node creates two children slots\n",
    "            if node != '#':\n",
    "                slots += 2\n",
    "        \n",
    "        # all slots should be used up\n",
    "        return slots == 0"
   ]
  },
  {
   "cell_type": "code",
   "execution_count": null,
   "metadata": {},
   "outputs": [],
   "source": [
    "class Solution:\n",
    "    def isValidSerialization(self, preorder):\n",
    "        num = 1\n",
    "        for i in preorder.split(','):\n",
    "            if num==0:\n",
    "                return False\n",
    "            if i == '#':\n",
    "                num -= 1\n",
    "            else:\n",
    "                num += 1\n",
    "        return num == 0         "
   ]
  },
  {
   "cell_type": "code",
   "execution_count": null,
   "metadata": {},
   "outputs": [],
   "source": []
  },
  {
   "cell_type": "markdown",
   "metadata": {},
   "source": [
    "用时： 44ms    62.83%\n",
    "\n",
    "内存 13.9M    16.67%"
   ]
  },
  {
   "cell_type": "code",
   "execution_count": null,
   "metadata": {},
   "outputs": [],
   "source": [
    "class Solution:\n",
    "    def isValidSerialization(self, preorder: str) -> bool:\n",
    "        temp, stack = preorder.split(','), []\n",
    "        for i in temp:\n",
    "            stack.append(i)\n",
    "            while len(stack) > 2 and stack[-1] == '#' and stack[-2] == '#':\n",
    "                stack.pop()\n",
    "                stack.pop()\n",
    "                if stack[-1] == '#':\n",
    "                    return False\n",
    "                stack.pop()\n",
    "                stack.append('#')\n",
    "        return len(stack) == 1 and stack[-1] == '#'"
   ]
  }
 ],
 "metadata": {
  "kernelspec": {
   "display_name": "Python [conda env:root] *",
   "language": "python",
   "name": "conda-root-py"
  },
  "language_info": {
   "codemirror_mode": {
    "name": "ipython",
    "version": 3
   },
   "file_extension": ".py",
   "mimetype": "text/x-python",
   "name": "python",
   "nbconvert_exporter": "python",
   "pygments_lexer": "ipython3",
   "version": "3.7.6"
  }
 },
 "nbformat": 4,
 "nbformat_minor": 4
}
