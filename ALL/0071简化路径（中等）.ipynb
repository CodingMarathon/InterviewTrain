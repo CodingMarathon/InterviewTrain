{
 "cells": [
  {
   "cell_type": "markdown",
   "metadata": {},
   "source": [
    "# 简化路径\n",
    "以 Unix 风格给出一个文件的绝对路径，你需要简化它。或者换句话说，将其转换为规范路径。\n",
    "\n",
    "在 Unix 风格的文件系统中，一个点（.）表示当前目录本身；此外，两个点 （..） 表示将目录切换到上一级（指向父目录）；两者都可以是复杂相对路径的组成部分。更多信息请参阅：Linux / Unix中的绝对路径 vs 相对路径\n",
    "\n",
    "请注意，返回的规范路径必须始终以斜杠 / 开头，并且两个目录名之间必须只有一个斜杠 /。最后一个目录名（如果存在）不能以 / 结尾。此外，规范路径必须是表示绝对路径的最短字符串。\n",
    "\n",
    " \n",
    "\n",
    "示例 1：\n",
    "\n",
    "输入：\"/home/\"\n",
    "\n",
    "输出：\"/home\"\n",
    "\n",
    "解释：注意，最后一个目录名后面没有斜杠。\n",
    "\n",
    "示例 2：\n",
    "\n",
    "输入：\"/../\"\n",
    "\n",
    "输出：\"/\"\n",
    "\n",
    "解释：从根目录向上一级是不可行的，因为根是你可以到达的最高级。\n",
    "\n",
    "示例 3：\n",
    "\n",
    "输入：\"/home//foo/\"\n",
    "\n",
    "输出：\"/home/foo\"\n",
    "\n",
    "解释：在规范路径中，多个连续斜杠需要用一个斜杠替换。\n",
    "\n",
    "示例 4：\n",
    "\n",
    "输入：\"/a/./b/../../c/\"\n",
    "\n",
    "输出：\"/c\"\n",
    "\n",
    "示例 5：\n",
    "\n",
    "输入：\"/a/../../b/../c//.//\"\n",
    "\n",
    "输出：\"/c\"\n",
    "\n",
    "示例 6：\n",
    "\n",
    "输入：\"/a//b////c/d//././/..\"\n",
    "\n",
    "输出：\"/a/b/c\"\n",
    "\n",
    "来源：力扣（LeetCode）\n",
    "\n",
    "链接：https://leetcode-cn.com/problems/simplify-path\n",
    "\n",
    "著作权归领扣网络所有。商业转载请联系官方授权，非商业转载请注明出处。"
   ]
  },
  {
   "cell_type": "markdown",
   "metadata": {},
   "source": [
    "# 一、使用栈"
   ]
  },
  {
   "cell_type": "code",
   "execution_count": 8,
   "metadata": {},
   "outputs": [],
   "source": [
    "class Solution:\n",
    "    def simplifyPath(self, path):\n",
    "        stack = []\n",
    "        path = path.split(\"/\")\n",
    "\n",
    "        for item in path:\n",
    "            if item == \"..\":\n",
    "                if stack : \n",
    "                    stack.pop()\n",
    "            elif item and item != \".\":\n",
    "                stack.append(item)\n",
    "        return \"/\" + \"/\".join(stack)    "
   ]
  },
  {
   "cell_type": "code",
   "execution_count": 9,
   "metadata": {},
   "outputs": [
    {
     "name": "stdout",
     "output_type": "stream",
     "text": [
      "/c\n"
     ]
    }
   ],
   "source": [
    "s = Solution()\n",
    "print(s.simplifyPath('/a/./b/../../c/'))"
   ]
  },
  {
   "cell_type": "code",
   "execution_count": 10,
   "metadata": {
    "scrolled": true
   },
   "outputs": [
    {
     "name": "stdout",
     "output_type": "stream",
     "text": [
      "/...\n"
     ]
    }
   ],
   "source": [
    "s = Solution()\n",
    "print(s.simplifyPath('/...'))"
   ]
  },
  {
   "cell_type": "markdown",
   "metadata": {},
   "source": [
    "用时36ms  内存13.7M\n"
   ]
  },
  {
   "cell_type": "markdown",
   "metadata": {},
   "source": [
    "# 二、"
   ]
  },
  {
   "cell_type": "code",
   "execution_count": 7,
   "metadata": {},
   "outputs": [],
   "source": [
    "class Solution:\n",
    "    def simplifyPath(self, path: str) -> str:\n",
    "        r = []\n",
    "        for s in path.split('/'):\n",
    "            r = {'':r, '.':r, '..':r[:-1]}.get(s, r + [s])\n",
    "        return '/' + '/'.join(r)"
   ]
  },
  {
   "cell_type": "markdown",
   "metadata": {},
   "source": [
    "用时40ms  内存13.6M"
   ]
  },
  {
   "cell_type": "code",
   "execution_count": 11,
   "metadata": {},
   "outputs": [
    {
     "data": {
      "text/plain": [
       "[1, 2, 3, 4]"
      ]
     },
     "execution_count": 11,
     "metadata": {},
     "output_type": "execute_result"
    }
   ],
   "source": [
    "a = [1,2,3]\n",
    "a+[4]"
   ]
  }
 ],
 "metadata": {
  "kernelspec": {
   "display_name": "Python [conda env:root] *",
   "language": "python",
   "name": "conda-root-py"
  },
  "language_info": {
   "codemirror_mode": {
    "name": "ipython",
    "version": 3
   },
   "file_extension": ".py",
   "mimetype": "text/x-python",
   "name": "python",
   "nbconvert_exporter": "python",
   "pygments_lexer": "ipython3",
   "version": "3.7.6"
  }
 },
 "nbformat": 4,
 "nbformat_minor": 4
}
