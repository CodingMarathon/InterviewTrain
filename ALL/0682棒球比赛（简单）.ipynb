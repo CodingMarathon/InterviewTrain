{
 "cells": [
  {
   "cell_type": "markdown",
   "metadata": {},
   "source": [
    "# 棒球比赛\n",
    "你现在是棒球比赛记录员。\n",
    "\n",
    "给定一个字符串列表，每个字符串可以是以下四种类型之一：\n",
    "\n",
    "1. 整数（一轮的得分）：直接表示您在本轮中获得的积分数。\n",
    "\n",
    "2. \"+\"（一轮的得分）：表示本轮获得的得分是前两轮有效 回合得分的总和。\n",
    "\n",
    "3. \"D\"（一轮的得分）：表示本轮获得的得分是前一轮有效 回合得分的两倍。\n",
    "\n",
    "4. \"C\"（一个操作，这不是一个回合的分数）：表示您获得的最后一个有效 回合的分数是无效的，应该被移除。\n",
    "\n",
    "\n",
    "每一轮的操作都是永久性的，可能会对前一轮和后一轮产生影响。\n",
    "\n",
    "你需要返回你在所有回合中得分的总和。\n",
    "\n",
    "示例 1:\n",
    "\n",
    "输入: [\"5\",\"2\",\"C\",\"D\",\"+\"]\n",
    "\n",
    "输出: 30\n",
    "\n",
    "解释: \n",
    "\n",
    "第1轮：你可以得到5分。总和是：5。\n",
    "\n",
    "第2轮：你可以得到2分。总和是：7。\n",
    "\n",
    "操作1：第2轮的数据无效。总和是：5。\n",
    "\n",
    "第3轮：你可以得到10分（第2轮的数据已被删除）。总数是：15。\n",
    "\n",
    "第4轮：你可以得到5 + 10 = 15分。总数是：30。\n",
    "\n",
    "示例 2:\n",
    "\n",
    "输入: [\"5\",\"-2\",\"4\",\"C\",\"D\",\"9\",\"+\",\"+\"]\n",
    "\n",
    "输出: 27\n",
    "\n",
    "解释: \n",
    "\n",
    "第1轮：你可以得到5分。总和是：5。\n",
    "\n",
    "第2轮：你可以得到-2分。总数是：3。\n",
    "\n",
    "第3轮：你可以得到4分。总和是：7。\n",
    "\n",
    "操作1：第3轮的数据无效。总数是：3。\n",
    "\n",
    "第4轮：你可以得到-4分（第三轮的数据已被删除）。总和是：-1。\n",
    "\n",
    "第5轮：你可以得到9分。总数是：8。\n",
    "\n",
    "第6轮：你可以得到-4 + 9 = 5分。总数是13。\n",
    "\n",
    "第7轮：你可以得到9 + 5 = 14分。总数是27。\n",
    "\n",
    "注意：\n",
    "\n",
    "输入列表的大小将介于1和1000之间。\n",
    "\n",
    "列表中的每个整数都将介于-30000和30000之间。\n",
    "\n",
    "来源：力扣（LeetCode）\n",
    "\n",
    "链接：https://leetcode-cn.com/problems/baseball-game\n",
    "\n",
    "著作权归领扣网络所有。商业转载请联系官方授权，非商业转载请注明出处。"
   ]
  },
  {
   "cell_type": "markdown",
   "metadata": {},
   "source": [
    "# 一、使用栈"
   ]
  },
  {
   "cell_type": "code",
   "execution_count": 1,
   "metadata": {},
   "outputs": [],
   "source": [
    "class Solution:\n",
    "    def calPoints(self, ops):\n",
    "        op = ['C', 'D', '+']\n",
    "        stack = []\n",
    "        for i in ops:\n",
    "            if i not in op:\n",
    "                stack.append(int(i))\n",
    "            elif i == 'C':\n",
    "                stack.pop()\n",
    "            elif i == 'D':\n",
    "                stack.append(stack[-1]*2)\n",
    "            elif i == '+':\n",
    "                stack.append(stack[-1]+stack[-2])\n",
    "        return sum(stack)"
   ]
  },
  {
   "cell_type": "markdown",
   "metadata": {},
   "source": [
    "用时52ms  内存13.8M"
   ]
  },
  {
   "cell_type": "code",
   "execution_count": null,
   "metadata": {},
   "outputs": [],
   "source": []
  }
 ],
 "metadata": {
  "kernelspec": {
   "display_name": "Python [conda env:root] *",
   "language": "python",
   "name": "conda-root-py"
  },
  "language_info": {
   "codemirror_mode": {
    "name": "ipython",
    "version": 3
   },
   "file_extension": ".py",
   "mimetype": "text/x-python",
   "name": "python",
   "nbconvert_exporter": "python",
   "pygments_lexer": "ipython3",
   "version": "3.7.6"
  }
 },
 "nbformat": 4,
 "nbformat_minor": 4
}
