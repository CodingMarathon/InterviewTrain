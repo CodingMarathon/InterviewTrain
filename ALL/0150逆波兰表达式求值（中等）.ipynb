{
 "cells": [
  {
   "cell_type": "markdown",
   "metadata": {},
   "source": [
    "# 逆波兰表达式求值\n",
    "根据[逆波兰](https://baike.baidu.com/item/%E9%80%86%E6%B3%A2%E5%85%B0%E5%BC%8F/128437)表示法，求表达式的值。\n",
    "\n",
    "有效的运算符包括 +, -, *, / 。每个运算对象可以是整数，也可以是另一个逆波兰表达式。\n",
    "\n",
    "说明：\n",
    "\n",
    "整数除法只保留整数部分。\n",
    "\n",
    "给定逆波兰表达式总是有效的。换句话说，表达式总会得出有效数值且不存在除数为 0 的情况。\n",
    "\n",
    "示例 1：\n",
    "\n",
    "输入: [\"2\", \"1\", \"+\", \"3\", \"*\"]\n",
    "\n",
    "输出: 9\n",
    "\n",
    "解释: ((2 + 1) * 3) = 9\n",
    "\n",
    "示例 2：\n",
    "\n",
    "输入: [\"4\", \"13\", \"5\", \"/\", \"+\"]\n",
    "\n",
    "输出: 6\n",
    "\n",
    "解释: (4 + (13 / 5)) = 6\n",
    "\n",
    "示例 3：\n",
    "\n",
    "输入: [\"10\", \"6\", \"9\", \"3\", \"+\", \"-11\", \"*\", \"/\", \"*\", \"17\", \"+\", \"5\", \"+\"]\n",
    "\n",
    "输出: 22\n",
    "\n",
    "解释: \n",
    "\n",
    "  ((10 * (6 / ((9 + 3) * -11))) + 17) + 5\n",
    "  \n",
    "= ((10 * (6 / (12 * -11))) + 17) + 5\n",
    "\n",
    "= ((10 * (6 / -132)) + 17) + 5\n",
    "\n",
    "= ((10 * 0) + 17) + 5\n",
    "\n",
    "= (0 + 17) + 5\n",
    "\n",
    "= 17 + 5\n",
    "\n",
    "= 22\n",
    "\n",
    "来源：力扣（LeetCode）\n",
    "\n",
    "链接：https://leetcode-cn.com/problems/evaluate-reverse-polish-notation\n",
    "\n",
    "著作权归领扣网络所有。商业转载请联系官方授权，非商业转载请注明出处。"
   ]
  },
  {
   "cell_type": "markdown",
   "metadata": {},
   "source": [
    "# 一、不考虑运算对象是逆波兰表达式"
   ]
  },
  {
   "cell_type": "code",
   "execution_count": 1,
   "metadata": {},
   "outputs": [],
   "source": [
    "class Solution:\n",
    "    def evalRPN(self, tokens):\n",
    "        stack = []\n",
    "        for i in tokens:\n",
    "            if i== '+':\n",
    "                stack.append(int(stack.pop())+int(stack.pop()))\n",
    "            elif i=='-':\n",
    "                stack.append(-(int(stack.pop()))+int(stack,pop()))\n",
    "            elif i=='*':\n",
    "                stack.append(int(stack.pop())*int(stack.pop()))\n",
    "            elif i=='/':\n",
    "                stack.append(1/int(stack.pop())*int(stack.pop()))\n",
    "            else:\n",
    "                stack.append(i)\n",
    "        return int(stack[0])"
   ]
  },
  {
   "cell_type": "code",
   "execution_count": 3,
   "metadata": {},
   "outputs": [
    {
     "name": "stdout",
     "output_type": "stream",
     "text": [
      "6\n"
     ]
    }
   ],
   "source": [
    "s = Solution()\n",
    "print(s.evalRPN([\"4\", \"13\", \"5\", \"/\", \"+\"]))"
   ]
  },
  {
   "cell_type": "markdown",
   "metadata": {},
   "source": [
    "用时48ms  内存13.9M"
   ]
  },
  {
   "cell_type": "markdown",
   "metadata": {},
   "source": [
    "# 二、优化"
   ]
  },
  {
   "cell_type": "code",
   "execution_count": null,
   "metadata": {},
   "outputs": [],
   "source": [
    "class Solution:\n",
    "    def evalRPN(self, tokens):\n",
    "        stack = []\n",
    "        calcu = {'+', '-', '*', '/'}\n",
    "        for ch in tokens:\n",
    "            if ch in calcu:\n",
    "                b = stack.pop()\n",
    "                a = stack.pop()\n",
    "                if ch == '+':\n",
    "                    stack.append(a + b)\n",
    "                if ch == '-':\n",
    "                    stack.append(a - b)\n",
    "                if ch == '*':\n",
    "                    stack.append(a * b)\n",
    "                if ch == '/':\n",
    "                    stack.append(int(a / b))\n",
    "            else:\n",
    "                stack.append(int(ch))\n",
    "        return stack.pop()"
   ]
  },
  {
   "cell_type": "markdown",
   "metadata": {},
   "source": [
    "用时36ms  内存13.9M"
   ]
  }
 ],
 "metadata": {
  "kernelspec": {
   "display_name": "Python [conda env:root] *",
   "language": "python",
   "name": "conda-root-py"
  },
  "language_info": {
   "codemirror_mode": {
    "name": "ipython",
    "version": 3
   },
   "file_extension": ".py",
   "mimetype": "text/x-python",
   "name": "python",
   "nbconvert_exporter": "python",
   "pygments_lexer": "ipython3",
   "version": "3.7.6"
  }
 },
 "nbformat": 4,
 "nbformat_minor": 4
}
