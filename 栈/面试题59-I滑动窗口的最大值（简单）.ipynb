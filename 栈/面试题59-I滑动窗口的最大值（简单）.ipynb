{
 "cells": [
  {
   "cell_type": "markdown",
   "metadata": {},
   "source": [
    "# 滑动窗口的最大值\n",
    "给定一个数组 nums 和滑动窗口的大小 k，请找出所有滑动窗口里的最大值。\n",
    "\n",
    "示例:\n",
    "\n",
    "输入: nums = [1,3,-1,-3,5,3,6,7], 和 k = 3\n",
    "\n",
    "输出: [3,3,5,5,6,7] \n",
    "\n",
    "解释: \n",
    "\n",
    "  滑动窗口的位置                最大值\n",
    "  \n",
    "---------------               -----\n",
    "[1  3  -1] -3  5  3  6  7       3\n",
    "\n",
    " 1 [3  -1  -3] 5  3  6  7       3\n",
    " \n",
    " 1  3 [-1  -3  5] 3  6  7       5\n",
    " \n",
    " 1  3  -1 [-3  5  3] 6  7       5\n",
    " \n",
    " 1  3  -1  -3 [5  3  6] 7       6\n",
    " \n",
    " 1  3  -1  -3  5 [3  6  7]      7\n",
    " \n",
    " \n",
    "\n",
    "提示：\n",
    "\n",
    "你可以假设 k 总是有效的，在输入数组不为空的情况下，1 ≤ k ≤ 输入数组的大小。\n",
    "\n",
    "注意：本题与主站 239 题相同：https://leetcode-cn.com/problems/sliding-window-maximum/\n",
    "\n",
    "来源：力扣（LeetCode）\n",
    "\n",
    "链接：https://leetcode-cn.com/problems/hua-dong-chuang-kou-de-zui-da-zhi-lcof\n",
    "\n",
    "著作权归领扣网络所有。商业转载请联系官方授权，非商业转载请注明出处。"
   ]
  },
  {
   "cell_type": "code",
   "execution_count": 2,
   "metadata": {},
   "outputs": [],
   "source": [
    "class Solution:\n",
    "    def maxSlidingWindow(self, nums, k):\n",
    "        deque = [];result = [] # deque也可以用collection里的双端队列实现\n",
    "        for i in range(0, len(nums)):\n",
    "            while deque and nums[i]>nums[deque[-1]]: # 只存有可能成为最大值的数字的index进deque\n",
    "                deque.pop()\n",
    "            deque.append(i)\n",
    "            while i-deque[0]>k-1: # 如果相距超过窗口k长度则弃掉\n",
    "                deque.pop(0)\n",
    "            if i >= k-1:\n",
    "                result.append(nums[deque[0]]) # 这过程中始终保持deque[0]为最大值的index\n",
    "        return result"
   ]
  },
  {
   "cell_type": "markdown",
   "metadata": {},
   "source": [
    "用时72ms  内存16.9M"
   ]
  }
 ],
 "metadata": {
  "kernelspec": {
   "display_name": "Python [conda env:root] *",
   "language": "python",
   "name": "conda-root-py"
  },
  "language_info": {
   "codemirror_mode": {
    "name": "ipython",
    "version": 3
   },
   "file_extension": ".py",
   "mimetype": "text/x-python",
   "name": "python",
   "nbconvert_exporter": "python",
   "pygments_lexer": "ipython3",
   "version": "3.7.6"
  }
 },
 "nbformat": 4,
 "nbformat_minor": 4
}
