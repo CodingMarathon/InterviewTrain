{
 "cells": [
  {
   "cell_type": "markdown",
   "metadata": {},
   "source": [
    "# 删除最外层的括号\n",
    "有效括号字符串为空 (\"\")、\"(\" + A + \")\" 或 A + B，其中 A 和 B 都是有效的括号字符串，+ 代表字符串的连接。例如，\"\"，\"()\"，\"(())()\" 和 \"(()(()))\" 都是有效的括号字符串。\n",
    "\n",
    "如果有效字符串 S 非空，且不存在将其拆分为 S = A+B 的方法，我们称其为原语（primitive），其中 A 和 B 都是非空有效括号字符串。\n",
    "\n",
    "给出一个非空有效字符串 S，考虑将其进行原语化分解，使得：S = P_1 + P_2 + ... + P_k，其中 P_i 是有效括号字符串原语。\n",
    "\n",
    "对 S 进行原语化分解，删除分解中每个原语字符串的最外层括号，返回 S 。\n",
    "\n",
    " \n",
    "\n",
    "示例 1：\n",
    "\n",
    "输入：\"(()())(())\"\n",
    "\n",
    "输出：\"()()()\"\n",
    "\n",
    "解释：\n",
    "\n",
    "输入字符串为 \"(()())(())\"，原语化分解得到 \"(()())\" + \"(())\"，\n",
    "\n",
    "删除每个部分中的最外层括号后得到 \"()()\" + \"()\" = \"()()()\"。\n",
    "\n",
    "示例 2：\n",
    "\n",
    "输入：\"(()())(())(()(()))\"\n",
    "\n",
    "输出：\"()()()()(())\"\n",
    "\n",
    "解释：\n",
    "\n",
    "输入字符串为 \"(()())(())(()(()))\"，原语化分解得到 \"(()())\" + \"(())\" + \"(()(()))\"，\n",
    "\n",
    "删除每个部分中的最外层括号后得到 \"()()\" + \"()\" + \"()(())\" = \"()()()()(())\"。\n",
    "\n",
    "示例 3：\n",
    "\n",
    "输入：\"()()\"\n",
    "\n",
    "输出：\"\"\n",
    "\n",
    "解释：\n",
    "\n",
    "输入字符串为 \"()()\"，原语化分解得到 \"()\" + \"()\"，\n",
    "\n",
    "删除每个部分中的最外层括号后得到 \"\" + \"\" = \"\"。\n",
    " \n",
    "\n",
    "提示：\n",
    "\n",
    "S.length <= 10000\n",
    "\n",
    "S[i] 为 \"(\" 或 \")\"\n",
    "\n",
    "S 是一个有效括号字符串\n",
    "\n",
    "来源：力扣（LeetCode）\n",
    "\n",
    "链接：https://leetcode-cn.com/problems/remove-outermost-parentheses\n",
    "\n",
    "著作权归领扣网络所有。商业转载请联系官方授权，非商业转载请注明出处。"
   ]
  },
  {
   "cell_type": "markdown",
   "metadata": {},
   "source": [
    "# 一、使用栈\n"
   ]
  },
  {
   "cell_type": "code",
   "execution_count": 9,
   "metadata": {},
   "outputs": [],
   "source": [
    "class Solution:\n",
    "    def removeOuterParentheses(self, S):\n",
    "        stack = []\n",
    "        ans = ''\n",
    "        index = 0\n",
    "        \n",
    "        for i in S:\n",
    "            if i == '(':\n",
    "                stack.append(i)\n",
    "                index += 1\n",
    "            elif i == ')':\n",
    "                index -= 1\n",
    "                if not index:\n",
    "                    for j in stack[1:]:\n",
    "                        ans = ans + j\n",
    "                    stack = []\n",
    "                else:\n",
    "                    stack.append(i)\n",
    "        return ans            "
   ]
  },
  {
   "cell_type": "code",
   "execution_count": 7,
   "metadata": {},
   "outputs": [
    {
     "name": "stdout",
     "output_type": "stream",
     "text": [
      "()()()(())\n"
     ]
    }
   ],
   "source": [
    "s = Solution()\n",
    "print(s.removeOuterParentheses('(()())(()(()))'))"
   ]
  },
  {
   "cell_type": "code",
   "execution_count": 10,
   "metadata": {},
   "outputs": [
    {
     "name": "stdout",
     "output_type": "stream",
     "text": [
      "\n"
     ]
    }
   ],
   "source": [
    "s = Solution()\n",
    "print(s.removeOuterParentheses('()()'))"
   ]
  },
  {
   "cell_type": "markdown",
   "metadata": {},
   "source": [
    "用时64ms  内存13.7M"
   ]
  },
  {
   "cell_type": "markdown",
   "metadata": {},
   "source": [
    "# 二、"
   ]
  },
  {
   "cell_type": "code",
   "execution_count": null,
   "metadata": {},
   "outputs": [],
   "source": [
    "class Solution:\n",
    "    def removeOuterParentheses(self, S: str) -> str:\n",
    "        stack = []\n",
    "        result = ''\n",
    "        for i in S:\n",
    "            if i == '(':\n",
    "                stack.append(i)\n",
    "                if len(stack) > 1:\n",
    "                    result += '('\n",
    "            else:\n",
    "                stack.pop()\n",
    "                if len(stack) != 0:\n",
    "                    result += ')'\n",
    "        return result"
   ]
  },
  {
   "cell_type": "markdown",
   "metadata": {},
   "source": [
    "用时60ms  内存13.6M"
   ]
  },
  {
   "cell_type": "code",
   "execution_count": null,
   "metadata": {},
   "outputs": [],
   "source": []
  }
 ],
 "metadata": {
  "kernelspec": {
   "display_name": "Python [conda env:root] *",
   "language": "python",
   "name": "conda-root-py"
  },
  "language_info": {
   "codemirror_mode": {
    "name": "ipython",
    "version": 3
   },
   "file_extension": ".py",
   "mimetype": "text/x-python",
   "name": "python",
   "nbconvert_exporter": "python",
   "pygments_lexer": "ipython3",
   "version": "3.7.6"
  }
 },
 "nbformat": 4,
 "nbformat_minor": 4
}
