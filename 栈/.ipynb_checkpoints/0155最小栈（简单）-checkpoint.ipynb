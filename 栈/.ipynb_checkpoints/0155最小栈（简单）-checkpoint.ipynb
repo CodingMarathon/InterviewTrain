{
 "cells": [
  {
   "cell_type": "markdown",
   "metadata": {},
   "source": [
    "# 最小栈\n",
    "设计一个支持 push ，pop ，top 操作，并能在常数时间内检索到最小元素的栈。\n",
    "\n",
    "push(x) —— 将元素 x 推入栈中。\n",
    "\n",
    "pop() —— 删除栈顶的元素。\n",
    "\n",
    "top() —— 获取栈顶元素。\n",
    "\n",
    "getMin() —— 检索栈中的最小元素。\n",
    "\n",
    "示例:\n",
    "\n",
    "MinStack minStack = new MinStack();\n",
    "\n",
    "minStack.push(-2);\n",
    "\n",
    "minStack.push(0);\n",
    "\n",
    "minStack.push(-3);\n",
    "\n",
    "minStack.getMin();   --> 返回 -3.\n",
    "\n",
    "minStack.pop();\n",
    "\n",
    "minStack.top();      --> 返回 0.\n",
    "\n",
    "minStack.getMin();   --> 返回 -2.\n",
    "\n",
    "来源：力扣（LeetCode）\n",
    "链接：https://leetcode-cn.com/problems/min-stack\n",
    "著作权归领扣网络所有。商业转载请联系官方授权，非商业转载请注明出处。"
   ]
  },
  {
   "cell_type": "markdown",
   "metadata": {},
   "source": [
    "# 一、最暴力的解法\n",
    "但是返回最小值并不是常数复杂度"
   ]
  },
  {
   "cell_type": "code",
   "execution_count": 1,
   "metadata": {},
   "outputs": [],
   "source": [
    "class MinStack:\n",
    "\n",
    "    def __init__(self):\n",
    "        \"\"\"\n",
    "        initialize your data structure here.\n",
    "        \"\"\"\n",
    "        self.stack = []\n",
    "    def push(self, x: int) -> None:\n",
    "        self.stack.append(x)\n",
    "    def pop(self) -> None:\n",
    "        return self.stack.pop()\n",
    "    def top(self) -> int:\n",
    "        return self.stack[-1]\n",
    "    def getMin(self) -> int:\n",
    "        return min(self.stack)\n",
    "\n",
    "\n",
    "# Your MinStack object will be instantiated and called as such:\n",
    "# obj = MinStack()\n",
    "# obj.push(x)\n",
    "# obj.pop()\n",
    "# param_3 = obj.top()\n",
    "# param_4 = obj.getMin()"
   ]
  },
  {
   "cell_type": "markdown",
   "metadata": {},
   "source": [
    "用时896ms 内存16.9M"
   ]
  },
  {
   "cell_type": "markdown",
   "metadata": {},
   "source": [
    "# 二、使用一个栈来存储最小值的序号"
   ]
  },
  {
   "cell_type": "code",
   "execution_count": 3,
   "metadata": {},
   "outputs": [],
   "source": [
    "class MinStack:\n",
    "\n",
    "    def __init__(self):\n",
    "        \"\"\"\n",
    "        initialize your data structure here.\n",
    "        \"\"\"\n",
    "        self.stack = []\n",
    "        self.min_stack = []\n",
    "    def push(self, x: int) -> None:\n",
    "        if not self.stack:\n",
    "            self.stack.append(x)\n",
    "            self.min_stack.append(0)\n",
    "        else:\n",
    "            if x < self.stack[self.min_stack[-1]]:\n",
    "                self.stack.append(x)\n",
    "                self.min_stack.append(len(self.stack)-1)\n",
    "            else:\n",
    "                self.stack.append(x)\n",
    "                self.min_stack.append(self.min_stack[-1])\n",
    "    def pop(self) -> None:\n",
    "        self.min_stack.pop()\n",
    "        return self.stack.pop()\n",
    "    def top(self) -> int:\n",
    "        return self.stack[-1]\n",
    "    def getMin(self) -> int:\n",
    "        return self.stack[self.min_stack[-1]]"
   ]
  },
  {
   "cell_type": "markdown",
   "metadata": {},
   "source": [
    "用时84ms  内存17M"
   ]
  },
  {
   "cell_type": "markdown",
   "metadata": {},
   "source": [
    "# 三、使用一个栈来存储当前列表的最小值"
   ]
  },
  {
   "cell_type": "code",
   "execution_count": 4,
   "metadata": {},
   "outputs": [],
   "source": [
    "class MinStack:\n",
    "    def __init__(self):\n",
    "        self.stack = []\n",
    "        self.min_stack = []\n",
    "    def push(self, x: int) -> None:\n",
    "        self.stack.append(x)\n",
    "        if not self.min_stack or x <= self.min_stack[-1]: \n",
    "            self.min_stack.append(x)\n",
    "    def pop(self) -> None:\n",
    "        if self.stack.pop() == self.min_stack[-1]:\n",
    "            self.min_stack.pop()\n",
    "    def top(self) -> int:\n",
    "        return self.stack[-1]\n",
    "    def getMin(self) -> int:\n",
    "        return self.min_stack[-1]\n"
   ]
  },
  {
   "cell_type": "markdown",
   "metadata": {},
   "source": [
    "用时124ms  内存16.9M"
   ]
  }
 ],
 "metadata": {
  "kernelspec": {
   "display_name": "Python [conda env:root] *",
   "language": "python",
   "name": "conda-root-py"
  },
  "language_info": {
   "codemirror_mode": {
    "name": "ipython",
    "version": 3
   },
   "file_extension": ".py",
   "mimetype": "text/x-python",
   "name": "python",
   "nbconvert_exporter": "python",
   "pygments_lexer": "ipython3",
   "version": "3.7.6"
  }
 },
 "nbformat": 4,
 "nbformat_minor": 4
}
