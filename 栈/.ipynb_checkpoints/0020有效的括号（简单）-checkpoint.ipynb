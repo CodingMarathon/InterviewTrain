{
 "cells": [
  {
   "cell_type": "markdown",
   "metadata": {},
   "source": [
    "# 有效的括号\n",
    "给定一个只包括 '('，')'，'{'，'}'，'['，']' 的字符串，判断字符串是否有效。\n",
    "\n",
    "有效字符串需满足：\n",
    "\n",
    "左括号必须用相同类型的右括号闭合。\n",
    "\n",
    "左括号必须以正确的顺序闭合。\n",
    "\n",
    "注意空字符串可被认为是有效字符串。\n",
    "\n",
    "示例 1:\n",
    "\n",
    "输入: \"()\"\n",
    "\n",
    "输出: true\n",
    "\n",
    "示例 2:\n",
    "\n",
    "输入: \"()[]{}\"\n",
    "\n",
    "输出: true\n",
    "\n",
    "示例 3:\n",
    "\n",
    "输入: \"(]\"\n",
    "\n",
    "输出: false\n",
    "\n",
    "示例 4:\n",
    "\n",
    "输入: \"([)]\"\n",
    "\n",
    "输出: false\n",
    "\n",
    "示例 5:\n",
    "\n",
    "输入: \"{[]}\"\n",
    "\n",
    "输出: true\n",
    "\n",
    "来源：力扣（LeetCode）\n",
    "\n",
    "链接：https://leetcode-cn.com/problems/valid-parentheses\n",
    "\n",
    "著作权归领扣网络所有。商业转载请联系官方授权，非商业转载请注明出处。"
   ]
  },
  {
   "cell_type": "markdown",
   "metadata": {},
   "source": [
    "# 一、使用栈\n",
    "遇到左括号进栈，遇到右括号就出栈，判断是否出栈的括号是否匹配，到最后判断栈内是否还有值。"
   ]
  },
  {
   "cell_type": "code",
   "execution_count": 6,
   "metadata": {},
   "outputs": [],
   "source": [
    "class Solution:\n",
    "    def isValid(self, s):\n",
    "        if len(s)== 0:\n",
    "            return True\n",
    "        stack = []\n",
    "        dic = {')':'(', ']':'[', '}':'{'}        \n",
    "        l = list(s)\n",
    "        for i in l:\n",
    "            if i in ('(','[','{'):\n",
    "                stack.append(i)\n",
    "            else:\n",
    "                if len(stack) == 0:\n",
    "                    return False\n",
    "                else:\n",
    "                    if stack.pop() == dic[i]:\n",
    "                        continue\n",
    "                    else:\n",
    "                        return False\n",
    "        if len(stack) == 0:\n",
    "            return True\n",
    "        else:\n",
    "            return False"
   ]
  },
  {
   "cell_type": "code",
   "execution_count": 7,
   "metadata": {},
   "outputs": [
    {
     "name": "stdout",
     "output_type": "stream",
     "text": [
      "True\n",
      "True\n",
      "False\n",
      "False\n",
      "True\n"
     ]
    }
   ],
   "source": [
    "s = Solution()\n",
    "print(s.isValid('()'))\n",
    "print(s.isValid('()[]{}'))\n",
    "print(s.isValid('(]'))\n",
    "print(s.isValid('([)]'))\n",
    "print(s.isValid('{[]}'))"
   ]
  },
  {
   "cell_type": "markdown",
   "metadata": {},
   "source": [
    "用时60 ms  内存 13.8M"
   ]
  },
  {
   "cell_type": "markdown",
   "metadata": {},
   "source": [
    "## 略微优化一下\n",
    "if的时候不进行==判断"
   ]
  },
  {
   "cell_type": "code",
   "execution_count": 8,
   "metadata": {},
   "outputs": [],
   "source": [
    "class Solution:\n",
    "    def isValid(self, s):\n",
    "        if not len(s):\n",
    "            return True\n",
    "        stack = []\n",
    "        dic = {')':'(', ']':'[', '}':'{'}        \n",
    "        l = list(s)\n",
    "        for i in l:\n",
    "            if i in ('(','[','{'):\n",
    "                stack.append(i)\n",
    "            else:\n",
    "                if len(stack):\n",
    "                    if stack.pop() == dic[i]:\n",
    "                        continue\n",
    "                    else:\n",
    "                        return False\n",
    "                else:\n",
    "                    return False\n",
    "        if len(stack):\n",
    "            return False\n",
    "        else:\n",
    "            return True"
   ]
  },
  {
   "cell_type": "markdown",
   "metadata": {},
   "source": [
    "用时40ms 内存13.9M"
   ]
  },
  {
   "cell_type": "markdown",
   "metadata": {},
   "source": [
    "# 二、再优化"
   ]
  },
  {
   "cell_type": "code",
   "execution_count": 9,
   "metadata": {},
   "outputs": [],
   "source": [
    "class Solution:\n",
    "    def isValid(self, s):\n",
    "        dic = {')':'(',']':'[','}':'{'}\n",
    "        stack = []\n",
    "        for i in s:\n",
    "            if stack and i in dic:\n",
    "                if stack[-1] == dic[i]: stack.pop()\n",
    "                else: return False\n",
    "            else: stack.append(i)\n",
    "            \n",
    "        return not stack"
   ]
  },
  {
   "cell_type": "markdown",
   "metadata": {},
   "source": [
    "用时36ms  内存13.8M"
   ]
  }
 ],
 "metadata": {
  "kernelspec": {
   "display_name": "Python [conda env:root] *",
   "language": "python",
   "name": "conda-root-py"
  },
  "language_info": {
   "codemirror_mode": {
    "name": "ipython",
    "version": 3
   },
   "file_extension": ".py",
   "mimetype": "text/x-python",
   "name": "python",
   "nbconvert_exporter": "python",
   "pygments_lexer": "ipython3",
   "version": "3.7.6"
  }
 },
 "nbformat": 4,
 "nbformat_minor": 4
}
